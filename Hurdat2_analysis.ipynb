{
 "cells": [
  {
   "cell_type": "code",
   "execution_count": null,
   "id": "d5268eb5",
   "metadata": {},
   "outputs": [],
   "source": [
    "## Importing packages that will be used ##\n",
    "import numpy as np\n",
    "import pandas as pd\n",
    "\n"
   ]
  },
  {
   "cell_type": "code",
   "execution_count": null,
   "id": "d7fa7c9e",
   "metadata": {},
   "outputs": [],
   "source": [
    "### Reading in the .csv from NHC ###\n",
    "Hurdat2 = pd.read_csv(\"#PlaceHolder#\")\n"
   ]
  },
  {
   "cell_type": "code",
   "execution_count": null,
   "id": "d930882d",
   "metadata": {},
   "outputs": [],
   "source": [
    "### Filtering Data For only Landfalling hurricanes ###"
   ]
  }
 ],
 "metadata": {
  "kernelspec": {
   "display_name": ".venv",
   "language": "python",
   "name": "python3"
  },
  "language_info": {
   "codemirror_mode": {
    "name": "ipython",
    "version": 3
   },
   "file_extension": ".py",
   "mimetype": "text/x-python",
   "name": "python",
   "nbconvert_exporter": "python",
   "pygments_lexer": "ipython3",
   "version": "3.12.1"
  }
 },
 "nbformat": 4,
 "nbformat_minor": 5
}
